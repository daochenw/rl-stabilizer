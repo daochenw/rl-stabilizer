{
 "cells": [
  {
   "cell_type": "raw",
   "id": "b2cf4a79",
   "metadata": {},
   "source": [
    "if \"subspaces\" not in itemdict:\n",
    "        subspaces = []\n",
    "        itemdict[\"subspaces\"] = subspaces\n",
    "    else:\n",
    "        subspaces = itemdict[\"subspaces\"]\n",
    "    \n",
    "    if \"generators\" not in itemdict:\n",
    "        generators = []\n",
    "        itemdict[\"generators\"] = generators\n",
    "    else:\n",
    "        generators = itemdict[\"generators\"]\n",
    "    \n",
    "#    if \"bitstrings\" not in itemdict:\n",
    "#       bitstrings = gen_bitstrings(n_qubits)\n",
    "#        shuffle(bitstrings)\n",
    "#        itemdict[\"bitstrings\"] = bitstrings\n",
    "#    else:\n",
    "#        bitstrings = itemdict[\"bitstrings\"]\n",
    "    \n",
    "    if \"index\" not in itemdict:\n",
    "        index = 0\n",
    "        itemdict[\"index\"] = index\n",
    "    else:\n",
    "        index = itemdict[\"index\"]"
   ]
  },
  {
   "cell_type": "code",
   "execution_count": 1,
   "id": "997b0f71",
   "metadata": {},
   "outputs": [],
   "source": [
    "import numpy as np\n",
    "import copy\n",
    "from math import sqrt\n",
    "from numpy.random import choice\n",
    "import yaml\n",
    "import time\n",
    "import math\n",
    "\n",
    "import os.path as path\n",
    "import os\n",
    "import pickle"
   ]
  },
  {
   "cell_type": "code",
   "execution_count": 2,
   "id": "985dc685",
   "metadata": {},
   "outputs": [],
   "source": [
    "def try_load_pickle(format_string, n):\n",
    "    f_string = format_string.format(n)\n",
    "    rel_path = path.join('./', f_string)\n",
    "    if path.exists(rel_path):\n",
    "        with open(rel_path, 'r+b') as _f:\n",
    "            items = pickle.load(_f)\n",
    "            _f.close()\n",
    "    else:\n",
    "        items = None\n",
    "    #if items is not None and n_states != n_stabilizer_states(n_qubits):\n",
    "        #return sample(items, n_states)\n",
    "    return items"
   ]
  },
  {
   "cell_type": "code",
   "execution_count": 3,
   "id": "dd7f2d93",
   "metadata": {},
   "outputs": [],
   "source": [
    "def save_to_pickle(data, format_string, num):\n",
    "    f_string = format_string.format(num)\n",
    "    with open(path.join('./', f_string), 'w+b') as f:\n",
    "        pickle.dump(data, f)\n",
    "        f.close()\n",
    "    return"
   ]
  },
  {
   "cell_type": "code",
   "execution_count": 4,
   "id": "65dd9995",
   "metadata": {},
   "outputs": [],
   "source": [
    "INDEX_STRING = '{}_index.pkl'\n",
    "SUB_STRING = '{}_subspaces.pkl'\n",
    "GEN_STRING = '{}_generators.pkl'"
   ]
  },
  {
   "cell_type": "code",
   "execution_count": 5,
   "id": "75aecf0b",
   "metadata": {},
   "outputs": [],
   "source": [
    "n_qubits = 4"
   ]
  },
  {
   "cell_type": "code",
   "execution_count": 6,
   "id": "f1933a1b",
   "metadata": {},
   "outputs": [],
   "source": [
    "index = try_load_pickle(INDEX_STRING, n_qubits)\n",
    "subspaces = try_load_pickle(SUB_STRING, n_qubits)\n",
    "generators = try_load_pickle(GEN_STRING, n_qubits)"
   ]
  },
  {
   "cell_type": "code",
   "execution_count": 7,
   "id": "81e3a81f",
   "metadata": {},
   "outputs": [
    {
     "name": "stdout",
     "output_type": "stream",
     "text": [
      "8444899\n"
     ]
    }
   ],
   "source": [
    "print(index)"
   ]
  },
  {
   "cell_type": "code",
   "execution_count": 12,
   "id": "70426244",
   "metadata": {},
   "outputs": [
    {
     "data": {
      "text/plain": [
       "476"
      ]
     },
     "execution_count": 12,
     "metadata": {},
     "output_type": "execute_result"
    }
   ],
   "source": [
    "len(subspaces)"
   ]
  },
  {
   "cell_type": "code",
   "execution_count": 13,
   "id": "5d6f65e3",
   "metadata": {},
   "outputs": [
    {
     "data": {
      "text/plain": [
       "476"
      ]
     },
     "execution_count": 13,
     "metadata": {},
     "output_type": "execute_result"
    }
   ],
   "source": [
    "len(generators)"
   ]
  },
  {
   "cell_type": "code",
   "execution_count": 10,
   "id": "e15fcea0",
   "metadata": {},
   "outputs": [],
   "source": [
    "subspaces = subspaces[:476]\n",
    "generators = generators[:476]"
   ]
  },
  {
   "cell_type": "code",
   "execution_count": 11,
   "id": "67b53724",
   "metadata": {},
   "outputs": [],
   "source": [
    "save_to_pickle(generators, GEN_STRING, n_qubits)\n",
    "save_to_pickle(subspaces, SUB_STRING, n_qubits)\n",
    "save_to_pickle(index, INDEX_STRING, n_qubits)"
   ]
  },
  {
   "cell_type": "code",
   "execution_count": null,
   "id": "ef4663b3",
   "metadata": {},
   "outputs": [],
   "source": []
  }
 ],
 "metadata": {
  "kernelspec": {
   "display_name": "Tflow-Boolean",
   "language": "python",
   "name": "tflow-boolean"
  },
  "language_info": {
   "codemirror_mode": {
    "name": "ipython",
    "version": 3
   },
   "file_extension": ".py",
   "mimetype": "text/x-python",
   "name": "python",
   "nbconvert_exporter": "python",
   "pygments_lexer": "ipython3",
   "version": "3.8.10"
  }
 },
 "nbformat": 4,
 "nbformat_minor": 5
}
