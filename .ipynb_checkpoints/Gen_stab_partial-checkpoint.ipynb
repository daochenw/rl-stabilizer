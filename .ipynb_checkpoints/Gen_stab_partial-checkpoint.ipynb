{
 "cells": [
  {
   "cell_type": "code",
   "execution_count": 1,
   "id": "56924c93",
   "metadata": {},
   "outputs": [],
   "source": [
    "from random import sample\n",
    "from random import shuffle as shuffle\n",
    "\n",
    "import math\n",
    "import numpy as np\n",
    "\n",
    "from stabilizer_search.stabilizers.eigenstates import py_find_eigenstates\n",
    "from stabilizer_search.stabilizers.py_generators import get_stabilizer_groups as py_get_groups\n",
    "from stabilizer_search.stabilizers.utils import *\n",
    "\n",
    "import os.path as path\n",
    "import pickle\n",
    "import sympy"
   ]
  },
  {
   "cell_type": "code",
   "execution_count": 2,
   "id": "aaaf2dfc",
   "metadata": {},
   "outputs": [],
   "source": [
    "from stabilizer_search.search.brute_force import *\n",
    "from stabilizer_search.mat import X, T\n",
    "from stabilizer_search.mat import tensor"
   ]
  },
  {
   "cell_type": "code",
   "execution_count": 3,
   "id": "e0375262",
   "metadata": {},
   "outputs": [],
   "source": [
    "#APP_DIR = path.abspath(__file__)\n",
    "STATE_STRING = '{}_stabs_partial.pkl'\n",
    "GROUP_STRING = '{}_groups_partial.pkl'\n",
    "GEN_STRING = '{}_generators.pkl'\n",
    "\n",
    "n_qubits = 4"
   ]
  },
  {
   "cell_type": "code",
   "execution_count": 4,
   "id": "19d57d8c",
   "metadata": {},
   "outputs": [],
   "source": [
    "def try_load(format_string, n_qubits):\n",
    "    f_string = format_string.format(n_qubits)\n",
    "    rel_path = path.join('./', f_string)\n",
    "    if path.exists(rel_path):\n",
    "        with open(rel_path, 'rb') as _f:\n",
    "            items = pickle.load(_f)\n",
    "            _f.close()\n",
    "    else:\n",
    "        items = None\n",
    "#    if items is not None and n_states != n_stabilizer_states(n_qubits):\n",
    "#        return sample(items, n_states)\n",
    "    return items"
   ]
  },
  {
   "cell_type": "code",
   "execution_count": 5,
   "id": "ff51ecd9",
   "metadata": {},
   "outputs": [],
   "source": [
    "def save_to_pickle(items, format_string, n_qubits):\n",
    "    with open(path.join('./', format_string.format(n_qubits)), 'wb') as f:\n",
    "        pickle.dump(items, f)\n",
    "        f.close()\n",
    "    return"
   ]
  },
  {
   "cell_type": "code",
   "execution_count": 6,
   "id": "4e46cb90",
   "metadata": {},
   "outputs": [],
   "source": [
    "def get_stabilizer_groups(n_qubits):\n",
    "    positive_groups = try_load(GEN_STRING, n_qubits) \n",
    "    #positive_groups = get_positive_stabilizer_groups(n_qubits, n_states, 0)\n",
    "    #extend = False\n",
    "    #if n_states == n_stabilizer_states(n_qubits):\n",
    "    n_states = n_stabilizer_states(n_qubits)\n",
    "    extend = True\n",
    "    print(\"Found {} positive groups\".format(len(positive_groups)))\n",
    "    groups = [list(map(array_to_pauli, group)) for group in positive_groups]\n",
    "    sign_strings = get_sign_strings(n_qubits, n_states)\n",
    "    return add_sign_to_groups(groups, sign_strings, extend)"
   ]
  },
  {
   "cell_type": "code",
   "execution_count": 25,
   "id": "7fa2e239",
   "metadata": {},
   "outputs": [],
   "source": [
    "def get_stabilizer_states(n_qubits, real_only=False, n_states=None):\n",
    "    \"\"\"Method for returning a set of stabilizer states. It takes the following \n",
    "    arguments:\n",
    "    Positional:\n",
    "      n_qubits: The number of qubits our stabilizer states will be built out of.\n",
    "      n_states (Optional): Number of stabilizer states we require. If not \n",
    "      specified, defaults to all Stabilier states.\n",
    "    Keyword:\n",
    "      use_cached: Boolean, defaults to True and looks in the package or working \n",
    "      dir for serialised states or generators.\n",
    "      generator_backend: Function which searches for the stabilizer generators\n",
    "      eigenstate_backend: Function which takes sets of stabilizer generators and\n",
    "      builds the corresponding eigenstates.\n",
    "      real_only: Return only real-valued stabilizer states\n",
    "    \"\"\"\n",
    "    use_cached = True\n",
    "    #generator_func = kwargs.pop('generator_backend', py_get_groups)\n",
    "    #eigenstate_func = kwargs.pop('eigenstate_backend', py_find_eigenstates)\n",
    "    #real_only = False\n",
    "    stabilizer_states = None\n",
    "    get_all = (n_states == n_stabilizer_states(n_qubits))\n",
    "    if n_states is None:\n",
    "        get_all = True\n",
    "        n_states = n_stabilizer_states(n_qubits)\n",
    "    if use_cached:\n",
    "        stabilizer_states = try_load(STATE_STRING, n_qubits)\n",
    "        if stabilizer_states is None:\n",
    "            groups = try_load(GROUP_STRING, n_qubits)\n",
    "            if groups is not None:\n",
    "                if get_all:\n",
    "                    save_to_pickle(groups, GROUP_STRING, n_qubits)\n",
    "                stabilizer_states = py_find_eigenstates(groups, n_states, real_only)\n",
    "    if stabilizer_states is None:\n",
    "        #generators = generator_func(n_qubits, n_states)\n",
    "        #generators = try_load(GEN_STRING, n_qubits)\n",
    "        generators = get_stabilizer_groups(n_qubits) \n",
    "        stabilizer_states = py_find_eigenstates(generators, real_only)\n",
    "        if use_cached and get_all:\n",
    "            save_to_pickle(generators, GROUP_STRING, n_qubits)\n",
    "            save_to_pickle(stabilizer_states, STATE_STRING, n_qubits)\n",
    "    return stabilizer_states"
   ]
  },
  {
   "cell_type": "code",
   "execution_count": 23,
   "id": "087fa7e8",
   "metadata": {},
   "outputs": [
    {
     "data": {
      "text/plain": [
       "array([[0.72855339],\n",
       "       [0.3017767 ],\n",
       "       [0.3017767 ],\n",
       "       [0.125     ],\n",
       "       [0.3017767 ],\n",
       "       [0.125     ],\n",
       "       [0.125     ],\n",
       "       [0.0517767 ],\n",
       "       [0.3017767 ],\n",
       "       [0.125     ],\n",
       "       [0.125     ],\n",
       "       [0.0517767 ],\n",
       "       [0.125     ],\n",
       "       [0.0517767 ],\n",
       "       [0.0517767 ],\n",
       "       [0.02144661]])"
      ]
     },
     "execution_count": 23,
     "metadata": {},
     "output_type": "execute_result"
    }
   ],
   "source": [
    "H = [[np.cos(np.pi/8)],[np.sin(np.pi/8)]]\n",
    "target_state = tensor(*([H]*n_qubits))\n",
    "real = np.allclose(np.imag(target_state), 0.)\n",
    "target_state"
   ]
  },
  {
   "cell_type": "code",
   "execution_count": 13,
   "id": "ffbf3147",
   "metadata": {},
   "outputs": [
    {
     "name": "stdout",
     "output_type": "stream",
     "text": [
      "Found 780 positive groups\n",
      "Added sign to produce 12480 total groups\n"
     ]
    }
   ],
   "source": [
    "stabilizer_states = get_stabilizer_states(n_qubits, real)\n",
    "stabilizers = np.array(stabilizer_states)\n",
    "n_stabilizers = len(stabilizer_states)"
   ]
  },
  {
   "cell_type": "code",
   "execution_count": 26,
   "id": "3ce8162d",
   "metadata": {},
   "outputs": [
    {
     "name": "stdout",
     "output_type": "stream",
     "text": [
      "Found 780 positive groups\n",
      "Added sign to produce 12480 total groups\n",
      "Found 780 positive groups\n",
      "Added sign to produce 12480 total groups\n"
     ]
    }
   ],
   "source": [
    "#generators = try_load(GEN_STRING, 4)\n",
    "#stab = try_load(STATE_STRING, 4)\n",
    "#generators = get_stabilizer_groups(n_qubits)\n",
    "stabilizer_states = get_stabilizer_states(n_qubits)"
   ]
  },
  {
   "cell_type": "code",
   "execution_count": 27,
   "id": "0626f165",
   "metadata": {},
   "outputs": [
    {
     "data": {
      "text/plain": [
       "12480"
      ]
     },
     "execution_count": 27,
     "metadata": {},
     "output_type": "execute_result"
    }
   ],
   "source": [
    "len(stabilizer_states)"
   ]
  },
  {
   "cell_type": "code",
   "execution_count": 29,
   "id": "04eb4d05",
   "metadata": {},
   "outputs": [],
   "source": [
    "# sanity check that the target is in the span\n",
    "candidate_stabilizer_basis = [stabilizers[i] for i in range(n_stabilizers) if np.allclose(stabilizers[i].imag, extra[0])]"
   ]
  },
  {
   "cell_type": "code",
   "execution_count": 30,
   "id": "ed76ef0e",
   "metadata": {},
   "outputs": [
    {
     "data": {
      "text/plain": [
       "1568"
      ]
     },
     "execution_count": 30,
     "metadata": {},
     "output_type": "execute_result"
    }
   ],
   "source": [
    "len(candidate_stabilizer_basis)"
   ]
  },
  {
   "cell_type": "code",
   "execution_count": 31,
   "id": "57a16a0c",
   "metadata": {},
   "outputs": [],
   "source": [
    "projector = ortho_projector(candidate_stabilizer_basis)"
   ]
  },
  {
   "cell_type": "code",
   "execution_count": 32,
   "id": "c0dc228c",
   "metadata": {},
   "outputs": [
    {
     "data": {
      "text/plain": [
       "1.0000000000000004"
      ]
     },
     "execution_count": 32,
     "metadata": {},
     "output_type": "execute_result"
    }
   ],
   "source": [
    "projection = np.linalg.norm(projector*target_state, 2)\n",
    "projection"
   ]
  },
  {
   "cell_type": "code",
   "execution_count": 33,
   "id": "b1ce93fc",
   "metadata": {},
   "outputs": [
    {
     "data": {
      "text/plain": [
       "True"
      ]
     },
     "execution_count": 33,
     "metadata": {},
     "output_type": "execute_result"
    }
   ],
   "source": [
    "np.allclose(projection, 1)"
   ]
  },
  {
   "cell_type": "markdown",
   "id": "7585e613",
   "metadata": {},
   "source": [
    "#  Testing: Adding all-0s string to stabilizers"
   ]
  },
  {
   "cell_type": "code",
   "execution_count": 28,
   "id": "994ceecb",
   "metadata": {},
   "outputs": [],
   "source": [
    "extra = np.zeros((1, len(stabilizers[1]), 1))"
   ]
  },
  {
   "cell_type": "code",
   "execution_count": null,
   "id": "f27c8e16",
   "metadata": {},
   "outputs": [],
   "source": [
    "stabilizers.shape"
   ]
  },
  {
   "cell_type": "code",
   "execution_count": null,
   "id": "3eda5ad0",
   "metadata": {},
   "outputs": [],
   "source": [
    "extra.shape"
   ]
  },
  {
   "cell_type": "code",
   "execution_count": null,
   "id": "24a0ffac",
   "metadata": {},
   "outputs": [],
   "source": [
    "new_arr = np.append(stabilizers, extra, 0)"
   ]
  },
  {
   "cell_type": "code",
   "execution_count": null,
   "id": "56927d25",
   "metadata": {},
   "outputs": [],
   "source": [
    "new_arr.shape"
   ]
  },
  {
   "cell_type": "code",
   "execution_count": null,
   "id": "e0cc8084",
   "metadata": {},
   "outputs": [],
   "source": [
    "new_arr[9648]"
   ]
  },
  {
   "cell_type": "code",
   "execution_count": null,
   "id": "09beb128",
   "metadata": {},
   "outputs": [],
   "source": [
    "candidate_stabilizer_basis.shape"
   ]
  },
  {
   "cell_type": "code",
   "execution_count": null,
   "id": "c5859aeb",
   "metadata": {},
   "outputs": [],
   "source": []
  }
 ],
 "metadata": {
  "kernelspec": {
   "display_name": "Tflow-Boolean",
   "language": "python",
   "name": "tflow-boolean"
  },
  "language_info": {
   "codemirror_mode": {
    "name": "ipython",
    "version": 3
   },
   "file_extension": ".py",
   "mimetype": "text/x-python",
   "name": "python",
   "nbconvert_exporter": "python",
   "pygments_lexer": "ipython3",
   "version": "3.8.10"
  }
 },
 "nbformat": 4,
 "nbformat_minor": 5
}
