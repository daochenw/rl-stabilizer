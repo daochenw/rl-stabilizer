{
 "cells": [
  {
   "cell_type": "code",
   "execution_count": 1,
   "metadata": {},
   "outputs": [],
   "source": [
    "import numpy as np\n",
    "import fieldmath"
   ]
  },
  {
   "cell_type": "code",
   "execution_count": 79,
   "metadata": {},
   "outputs": [],
   "source": [
    "def bits_to_number(binary):\n",
    "    number = 0\n",
    "    for b in binary:\n",
    "        number = (2 * number) + b\n",
    "    return number\n",
    "\n",
    "def number_to_padbase(n, k):\n",
    "    if n == 0:\n",
    "        return [0]\n",
    "    digits = []\n",
    "    while n:\n",
    "        digits.append(int(n % 2))\n",
    "        n //= 2\n",
    "    nopad = digits[::-1]\n",
    "    return [0]*(k-len(nopad))+nopad"
   ]
  },
  {
   "cell_type": "code",
   "execution_count": 97,
   "metadata": {},
   "outputs": [],
   "source": [
    "n = 5\n",
    "A = [np.random.randint(2) for dummy in range(np.power(n,2))]\n",
    "A = np.reshape(A, [n,n])\n",
    "Ddict = {(0,0):0,(0,1):2,(1,0):4,(1,1):6}\n",
    "Jdict = {0:0, 1:4}"
   ]
  },
  {
   "cell_type": "code",
   "execution_count": 50,
   "metadata": {},
   "outputs": [],
   "source": [
    "n = 3\n",
    "A = np.array([[1,0,1],[1,1,0],[0,1,1]])"
   ]
  },
  {
   "cell_type": "code",
   "execution_count": 51,
   "metadata": {},
   "outputs": [
    {
     "data": {
      "text/plain": [
       "3"
      ]
     },
     "execution_count": 51,
     "metadata": {},
     "output_type": "execute_result"
    }
   ],
   "source": [
    "len(A)"
   ]
  },
  {
   "cell_type": "code",
   "execution_count": 54,
   "metadata": {},
   "outputs": [],
   "source": [
    "def row_reduce_gf2(A):\n",
    "    n = len(A)\n",
    "    B = fieldmath.Matrix(n,n,fieldmath.PrimeField(2))\n",
    "\n",
    "    for i in range(n):\n",
    "        for j in range(n):\n",
    "            B.set(i,j,int(A[i,j]))\n",
    "\n",
    "    B.reduced_row_echelon_form()\n",
    "\n",
    "    for i in range(n):\n",
    "        for j in range(n):\n",
    "            A[i,j]=B.get(i,j)\n",
    "            \n",
    "    return A[~np.all(A == 0, axis=1)]"
   ]
  },
  {
   "cell_type": "code",
   "execution_count": 62,
   "metadata": {},
   "outputs": [
    {
     "data": {
      "text/plain": [
       "array([[1, 0, 1],\n",
       "       [0, 1, 1]])"
      ]
     },
     "execution_count": 62,
     "metadata": {},
     "output_type": "execute_result"
    }
   ],
   "source": [
    "row_reduce_gf2(A)"
   ]
  },
  {
   "cell_type": "code",
   "execution_count": 109,
   "metadata": {},
   "outputs": [],
   "source": [
    "def convert_Dbits(x):\n",
    "    assert len(x)%2 == 0\n",
    "    return [Ddict[(x[2*i],x[2*i+1])] for i in range(int(len(x)/2))]\n",
    "\n",
    "def convert_Jbits(x):\n",
    "    assert len(x) == n*(n-1)/2\n",
    "    x = [Jdict[x[i]] for i in range(len(x))]\n",
    "    tri = np.zeros((n, n))\n",
    "    tri[np.triu_indices(n, 1)] = x\n",
    "    sym = tri + np.transpose(tri)\n",
    "    return sym"
   ]
  },
  {
   "cell_type": "code",
   "execution_count": 63,
   "metadata": {},
   "outputs": [
    {
     "ename": "SyntaxError",
     "evalue": "invalid syntax (<ipython-input-63-e6123aaff914>, line 1)",
     "output_type": "error",
     "traceback": [
      "\u001b[0;36m  File \u001b[0;32m\"<ipython-input-63-e6123aaff914>\"\u001b[0;36m, line \u001b[0;32m1\u001b[0m\n\u001b[0;31m    bits_to_stab(bitarray):\u001b[0m\n\u001b[0m                           ^\u001b[0m\n\u001b[0;31mSyntaxError\u001b[0m\u001b[0;31m:\u001b[0m invalid syntax\n"
     ]
    }
   ],
   "source": [
    "def bits_to_stab(bitarray):\n",
    "    assert len(bitarray) ==  3/2*np.power(n,2)+5/2*n+3\n",
    "    h = bitarray[:n]\n",
    "    A = bitarray[n:np.power(n,2)+n]\n",
    "    Q = bitarray[np.power(n,2)+n:np.power(n,2)+3]\n",
    "    D = bitarray[np.power(n,2)+3:np.power(n,2)+3+2*n]\n",
    "    J = bitarray[np.power(n,2)+3+2n:np.power(n,2)+3+2*n+n*(n-1)/2]\n",
    "    \n",
    "    A = np.reshape(A,[n,n])\n",
    "    A = row_reduce_gf2(A)\n",
    "    k = len(A)\n",
    "    bitarray = bitarray[np.power(n,2):]\n",
    "    for x in range(np.power(2,k)):\n",
    "        vecx = number_to_padbase(x,k)\n",
    "        qx = bits_to_number(Q) + np.dot(vecx,convert_Dbits(D[:2*k])) + "
   ]
  },
  {
   "cell_type": "code",
   "execution_count": 76,
   "metadata": {},
   "outputs": [
    {
     "data": {
      "text/plain": [
       "array([2, 3])"
      ]
     },
     "execution_count": 76,
     "metadata": {},
     "output_type": "execute_result"
    }
   ],
   "source": [
    "A=np.array([1,2,3,4,5,6])\n",
    "A[1:3]"
   ]
  },
  {
   "cell_type": "code",
   "execution_count": 95,
   "metadata": {},
   "outputs": [
    {
     "data": {
      "text/plain": [
       "array([[ 0.,  1.,  2.,  3.,  4.],\n",
       "       [ 0.,  0.,  5.,  6.,  7.],\n",
       "       [ 0.,  0.,  0.,  8.,  9.],\n",
       "       [ 0.,  0.,  0.,  0., 10.],\n",
       "       [ 0.,  0.,  0.,  0.,  0.]])"
      ]
     },
     "execution_count": 95,
     "metadata": {},
     "output_type": "execute_result"
    }
   ],
   "source": [
    "tri = np.zeros((5, 5))\n",
    "tri[np.triu_indices(5, 1)] = np.array([1,2,3,4,5,6,7,8,9,10])\n",
    "tri"
   ]
  },
  {
   "cell_type": "code",
   "execution_count": 73,
   "metadata": {},
   "outputs": [
    {
     "data": {
      "text/plain": [
       "[1, 0, 1]"
      ]
     },
     "execution_count": 73,
     "metadata": {},
     "output_type": "execute_result"
    }
   ],
   "source": [
    "number_to_base(5,1)"
   ]
  },
  {
   "cell_type": "code",
   "execution_count": null,
   "metadata": {},
   "outputs": [],
   "source": []
  }
 ],
 "metadata": {
  "kernelspec": {
   "display_name": "Python 3",
   "language": "python",
   "name": "python3"
  },
  "language_info": {
   "codemirror_mode": {
    "name": "ipython",
    "version": 3
   },
   "file_extension": ".py",
   "mimetype": "text/x-python",
   "name": "python",
   "nbconvert_exporter": "python",
   "pygments_lexer": "ipython3",
   "version": "3.8.5"
  }
 },
 "nbformat": 4,
 "nbformat_minor": 4
}
