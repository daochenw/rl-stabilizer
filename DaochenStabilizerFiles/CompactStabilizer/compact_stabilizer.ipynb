{
 "cells": [
  {
   "cell_type": "code",
   "execution_count": 1,
   "metadata": {},
   "outputs": [],
   "source": [
    "import numpy as np\n",
    "import fieldmath"
   ]
  },
  {
   "cell_type": "code",
   "execution_count": 194,
   "metadata": {},
   "outputs": [],
   "source": [
    "def bits_to_number(binary):\n",
    "    number = 0\n",
    "    for b in binary:\n",
    "        number = (2 * number) + b\n",
    "    return number\n",
    "\n",
    "def number_to_padbase(n, k):\n",
    "    if n == 0:\n",
    "        return [0]*k\n",
    "    digits = []\n",
    "    while n:\n",
    "        digits.append(int(n % 2))\n",
    "        n //= 2\n",
    "    nopad = digits[::-1]\n",
    "    return [0]*(k-len(nopad))+nopad\n",
    "\n",
    "def tensor(matrices):\n",
    "    out = matrices.pop(0)\n",
    "    while matrices:\n",
    "        out = np.kron(out, matrices.pop(0))\n",
    "    return out"
   ]
  },
  {
   "cell_type": "code",
   "execution_count": 195,
   "metadata": {},
   "outputs": [],
   "source": [
    "a = [np.array([1,0]),np.array([0,1])]"
   ]
  },
  {
   "cell_type": "code",
   "execution_count": 196,
   "metadata": {},
   "outputs": [
    {
     "data": {
      "text/plain": [
       "array([1, 0])"
      ]
     },
     "execution_count": 196,
     "metadata": {},
     "output_type": "execute_result"
    }
   ],
   "source": [
    "a.pop(0)"
   ]
  },
  {
   "cell_type": "code",
   "execution_count": 197,
   "metadata": {},
   "outputs": [
    {
     "data": {
      "text/plain": [
       "array([0, 1, 0, 0])"
      ]
     },
     "execution_count": 197,
     "metadata": {},
     "output_type": "execute_result"
    }
   ],
   "source": [
    "tensor([np.array([1,0]),np.array([0,1])])"
   ]
  },
  {
   "cell_type": "code",
   "execution_count": 198,
   "metadata": {},
   "outputs": [],
   "source": [
    "n = 5\n",
    "A = [np.random.randint(2) for dummy in range(np.power(n,2))]\n",
    "A = np.reshape(A, [n,n])\n",
    "Ddict = {(0,0):0,(0,1):2,(1,0):4,(1,1):6}\n",
    "Jdict = {0:0, 1:4}\n",
    "ketbit = {0:np.array([1,0]),1:np.array([0,1])}"
   ]
  },
  {
   "cell_type": "code",
   "execution_count": 199,
   "metadata": {},
   "outputs": [],
   "source": [
    "n = 3\n",
    "A = np.array([[1,0,1],[1,1,0],[0,1,1]])"
   ]
  },
  {
   "cell_type": "code",
   "execution_count": 200,
   "metadata": {},
   "outputs": [
    {
     "data": {
      "text/plain": [
       "3"
      ]
     },
     "execution_count": 200,
     "metadata": {},
     "output_type": "execute_result"
    }
   ],
   "source": [
    "len(A)"
   ]
  },
  {
   "cell_type": "code",
   "execution_count": 359,
   "metadata": {},
   "outputs": [],
   "source": [
    "def row_reduce_gf2(A,n):\n",
    "    n = len(A)\n",
    "    B = fieldmath.Matrix(n,n,fieldmath.PrimeField(2))\n",
    "\n",
    "    for i in range(n):\n",
    "        for j in range(n):\n",
    "            B.set(i,j,int(A[i,j]))\n",
    "\n",
    "    B.reduced_row_echelon_form()\n",
    "\n",
    "    for i in range(n):\n",
    "        for j in range(n):\n",
    "            A[i,j]=B.get(i,j)\n",
    "            \n",
    "    return A[~np.all(A == 0, axis=1)]"
   ]
  },
  {
   "cell_type": "code",
   "execution_count": 202,
   "metadata": {},
   "outputs": [
    {
     "data": {
      "text/plain": [
       "array([[1, 0, 1],\n",
       "       [0, 1, 1]])"
      ]
     },
     "execution_count": 202,
     "metadata": {},
     "output_type": "execute_result"
    }
   ],
   "source": [
    "row_reduce_gf2(A)"
   ]
  },
  {
   "cell_type": "code",
   "execution_count": 360,
   "metadata": {},
   "outputs": [],
   "source": [
    "def convert_Dbits(x):\n",
    "    assert len(x)%2 == 0\n",
    "    return [Ddict[(x[2*i],x[2*i+1])] for i in range(int(len(x)/2))]\n",
    "\n",
    "def convert_Jbits(x,n):\n",
    "    assert len(x) == n*(n-1)/2\n",
    "    x = [Jdict[x[i]] for i in range(len(x))]\n",
    "    tri = np.zeros((n, n))\n",
    "    tri[np.triu_indices(n, 1)] = x\n",
    "    sym = tri + np.transpose(tri)\n",
    "    return sym"
   ]
  },
  {
   "cell_type": "code",
   "execution_count": 361,
   "metadata": {},
   "outputs": [],
   "source": [
    "def bits_to_stab(bitarray):\n",
    "    bitarray = np.array(bitarray)\n",
    "    assert len(bitarray) ==  3/2*np.power(n,2)+5/2*n+3\n",
    "    h = bitarray[:n]\n",
    "    A = bitarray[n:n+np.power(n,2)]\n",
    "    Q = bitarray[n+np.power(n,2):n+np.power(n,2)+3]\n",
    "    D = bitarray[n+np.power(n,2)+3:n+np.power(n,2)+3+2*n]\n",
    "    J = bitarray[n+np.power(n,2)+3+2*n:len(bitarray)]\n",
    "    \n",
    "    A = np.reshape(A,[n,n])\n",
    "    A = row_reduce_gf2(A)\n",
    "    k = len(A)\n",
    "    Q = bits_to_number(Q)\n",
    "    D = convert_Dbits(D[:2*k])\n",
    "    print(k)\n",
    "    Jmatrix = convert_Jbits(J)[:k,:k]\n",
    "    state = 0 \n",
    "    for vecx_number in range(np.power(2,k)):\n",
    "        vecx = number_to_padbase(vecx_number,k)\n",
    "        qx = Q + np.dot(vecx,D) + np.dot(vecx,Jmatrix.dot(vecx))\n",
    "        x = h + sum([A[i]*vecx[i] for i in range(k)])\n",
    "        x = np.mod(x,2)\n",
    "        ketx = tensor([ketbit[x[i]] for i in range(n)])\n",
    "        state = state+np.exp(1j*np.pi/4*qx)*ketx\n",
    "        \n",
    "    state = state/np.power(2,k/2)\n",
    "    \n",
    "    return state"
   ]
  },
  {
   "cell_type": "code",
   "execution_count": 365,
   "metadata": {
    "scrolled": true
   },
   "outputs": [],
   "source": [
    "# bitarray = [np.random.randint(2) for dummy in range(int(n))]+[0]*np.power(n,2)+[np.random.randint(2) for dummy in range(int(3+2*n+n*(n-1)/2))]\n",
    "n = 6\n",
    "m = 3/2*np.power(n,2)+5/2*n+3\n",
    "bitarray = [np.random.randint(2) for dummy in range(int(m))]\n",
    "# bits_to_stab(bitarray)"
   ]
  },
  {
   "cell_type": "code",
   "execution_count": 366,
   "metadata": {},
   "outputs": [
    {
     "data": {
      "text/plain": [
       "[array([0, 1])]"
      ]
     },
     "execution_count": 366,
     "metadata": {},
     "output_type": "execute_result"
    }
   ],
   "source": [
    "a[:1]"
   ]
  },
  {
   "cell_type": "code",
   "execution_count": 367,
   "metadata": {},
   "outputs": [
    {
     "data": {
      "text/plain": [
       "array([[ 0.,  1.,  2.,  3.,  4.],\n",
       "       [ 0.,  0.,  5.,  6.,  7.],\n",
       "       [ 0.,  0.,  0.,  8.,  9.],\n",
       "       [ 0.,  0.,  0.,  0., 10.],\n",
       "       [ 0.,  0.,  0.,  0.,  0.]])"
      ]
     },
     "execution_count": 367,
     "metadata": {},
     "output_type": "execute_result"
    }
   ],
   "source": [
    "tri = np.zeros((5, 5))\n",
    "tri[np.triu_indices(5, 1)] = np.array([1,2,3,4,5,6,7,8,9,10])\n",
    "tri"
   ]
  },
  {
   "cell_type": "code",
   "execution_count": 397,
   "metadata": {},
   "outputs": [],
   "source": [
    "import copy"
   ]
  },
  {
   "cell_type": "code",
   "execution_count": 433,
   "metadata": {},
   "outputs": [],
   "source": [
    "def bits_to_stab(bits,n,chi):\n",
    "    bits = np.array(bits)\n",
    "    basis = []\n",
    "    m = 3/2*np.power(n,2)+5/2*n+3\n",
    "    assert m%1 == 0 \n",
    "    m = int(m)\n",
    "    assert len(bits) == chi*m\n",
    "    for i in range(chi):\n",
    "        bitarray = bits[i*m:(i+1)*m]\n",
    "        assert len(bitarray) ==  m\n",
    "        h = bitarray[:n]\n",
    "        A = bitarray[n:n+np.power(n,2)]\n",
    "        Q = bitarray[n+np.power(n,2):n+np.power(n,2)+3]\n",
    "        D = bitarray[n+np.power(n,2)+3:n+np.power(n,2)+3+2*n]\n",
    "        J = bitarray[n+np.power(n,2)+3+2*n:len(bitarray)]\n",
    "        \n",
    "        A = np.reshape(A,[n,n])\n",
    "        A = row_reduce_gf2(A,n)\n",
    "        k = len(A)\n",
    "        Q = bits_to_number(Q)\n",
    "        D = convert_Dbits(D[:2*k])\n",
    "\n",
    "        Jmatrix = convert_Jbits(J,n)[:k,:k]\n",
    "        state = 0 \n",
    "        for vecx_number in range(np.power(2,k)):\n",
    "            vecx = number_to_padbase(vecx_number,k)\n",
    "            qx = Q + np.dot(vecx,D) + np.dot(vecx,Jmatrix.dot(vecx))\n",
    "            x = h + sum([A[i]*vecx[i] for i in range(k)])\n",
    "            x = np.mod(x,2)\n",
    "            ketx = tensor([ketbit[x[i]] for i in range(n)])\n",
    "            state = state+np.exp(1j*np.pi/4*qx)*ketx\n",
    "            \n",
    "        state = state/np.power(2,k/2)\n",
    "        basis.append(state)\n",
    "    assert len(bits)\n",
    "    return tuple(basis)"
   ]
  },
  {
   "cell_type": "code",
   "execution_count": 434,
   "metadata": {},
   "outputs": [],
   "source": [
    "a = [0,1,2]"
   ]
  },
  {
   "cell_type": "code",
   "execution_count": 435,
   "metadata": {},
   "outputs": [
    {
     "data": {
      "text/plain": [
       "2"
      ]
     },
     "execution_count": 435,
     "metadata": {},
     "output_type": "execute_result"
    }
   ],
   "source": [
    "a[2]"
   ]
  },
  {
   "cell_type": "code",
   "execution_count": 436,
   "metadata": {},
   "outputs": [
    {
     "data": {
      "text/plain": [
       "3"
      ]
     },
     "execution_count": 436,
     "metadata": {},
     "output_type": "execute_result"
    }
   ],
   "source": [
    "len(a)"
   ]
  },
  {
   "cell_type": "code",
   "execution_count": 437,
   "metadata": {},
   "outputs": [],
   "source": [
    "n_qubits = 2\n",
    "chi = 2\n",
    "m = 3/2*np.power(n_qubits,2)+5/2*n_qubits+3\n",
    "x = [np.random.randint(2) for dummy in range(int(m*chi))]"
   ]
  },
  {
   "cell_type": "code",
   "execution_count": 438,
   "metadata": {},
   "outputs": [
    {
     "data": {
      "text/plain": [
       "(array([ 0.35355339-0.35355339j,  0.35355339+0.35355339j,\n",
       "         0.35355339+0.35355339j, -0.35355339+0.35355339j]),\n",
       " array([0.70710678+0.j, 0.        +0.j, 0.70710678+0.j, 0.        +0.j]))"
      ]
     },
     "execution_count": 438,
     "metadata": {},
     "output_type": "execute_result"
    }
   ],
   "source": [
    "bits_to_stab(x,n_qubits,chi)"
   ]
  },
  {
   "cell_type": "code",
   "execution_count": null,
   "metadata": {},
   "outputs": [],
   "source": [
    "# okay, the assert helped big time!"
   ]
  },
  {
   "cell_type": "code",
   "execution_count": 439,
   "metadata": {},
   "outputs": [
    {
     "data": {
      "text/plain": [
       "[array([1, 0]), array([0, 1])]"
      ]
     },
     "execution_count": 439,
     "metadata": {},
     "output_type": "execute_result"
    }
   ],
   "source": [
    "n = 2\n",
    "x = [0,1]\n",
    "[ketbit[x[i]] for i in range(n)]"
   ]
  },
  {
   "cell_type": "code",
   "execution_count": null,
   "metadata": {},
   "outputs": [],
   "source": []
  }
 ],
 "metadata": {
  "kernelspec": {
   "display_name": "Python 3",
   "language": "python",
   "name": "python3"
  },
  "language_info": {
   "codemirror_mode": {
    "name": "ipython",
    "version": 3
   },
   "file_extension": ".py",
   "mimetype": "text/x-python",
   "name": "python",
   "nbconvert_exporter": "python",
   "pygments_lexer": "ipython3",
   "version": "3.8.5"
  }
 },
 "nbformat": 4,
 "nbformat_minor": 4
}
