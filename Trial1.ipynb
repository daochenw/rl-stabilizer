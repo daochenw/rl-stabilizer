{
 "cells": [
  {
   "cell_type": "code",
   "execution_count": 1,
   "id": "236c1b7f",
   "metadata": {},
   "outputs": [],
   "source": [
    "from itertools import combinations\n",
    "from random import shuffle\n",
    "#from .utils import *\n",
    "from math import pi, sqrt\n",
    "import numpy as np\n",
    "from cmath import exp as cexp"
   ]
  },
  {
   "cell_type": "code",
   "execution_count": 6,
   "id": "38ce2e22",
   "metadata": {},
   "outputs": [],
   "source": [
    "import yaml\n",
    "import pprint"
   ]
  },
  {
   "cell_type": "markdown",
   "id": "eff18301",
   "metadata": {},
   "source": [
    "# Various ops for computing stabilizers"
   ]
  },
  {
   "cell_type": "code",
   "execution_count": 2,
   "id": "c2dab0dd",
   "metadata": {},
   "outputs": [],
   "source": [
    "n_qubits=4"
   ]
  },
  {
   "cell_type": "code",
   "execution_count": 3,
   "id": "ed67fb1f",
   "metadata": {},
   "outputs": [],
   "source": [
    "bitstrings = []\n",
    "for i in range(1, pow(2,2*n_qubits)): #We ignore the all 0 string as it corresponds to I^{n}\n",
    "    bin_string = bin(i)[2:] #strip the 0b from the string\n",
    "    bin_string = '0'*(2*n_qubits - len(bin_string)) + bin_string\n",
    "    a = np.array([b == '1' for b in bin_string])\n",
    "    bitstrings.append(a)"
   ]
  },
  {
   "cell_type": "code",
   "execution_count": 4,
   "id": "727c5f15",
   "metadata": {},
   "outputs": [
    {
     "name": "stdout",
     "output_type": "stream",
     "text": [
      "15\n",
      "16\n"
     ]
    }
   ],
   "source": [
    "index = 10\n",
    "j=0\n",
    "while j < index:\n",
    "    j+=1\n",
    "\n",
    "j=j+5\n",
    "\n",
    "index=j\n",
    "\n",
    "j=j+1\n",
    "\n",
    "print(index)\n",
    "print(j)"
   ]
  },
  {
   "cell_type": "code",
   "execution_count": null,
   "id": "3aa5c295",
   "metadata": {},
   "outputs": [],
   "source": [
    "[elem.astype(int) for elem in bitstrings]"
   ]
  },
  {
   "cell_type": "code",
   "execution_count": null,
   "id": "e400b72a",
   "metadata": {},
   "outputs": [],
   "source": [
    "res = pow(2., n_qubits)\n",
    "for i in range(n_qubits):\n",
    "    res *= (pow(2., n_qubits-i)+1)\n",
    "\n",
    "res"
   ]
  },
  {
   "cell_type": "code",
   "execution_count": null,
   "id": "aabd1e5c",
   "metadata": {},
   "outputs": [],
   "source": [
    "target = res/pow(2, n_qubits)\n",
    "target"
   ]
  },
  {
   "cell_type": "code",
   "execution_count": null,
   "id": "e7037ff0",
   "metadata": {},
   "outputs": [],
   "source": [
    "def qeye(n):\n",
    "    return np.eye(n, dtype=np.complex_)\n",
    "\n",
    "I = qeye(2)\n",
    "\n",
    "X = np.matrix([[0,1], [1,0]], dtype=np.complex_)\n",
    "\n",
    "\n",
    "Y = np.matrix([[0,-1j], [1j,0]], dtype=np.complex_)\n",
    "\n",
    "\n",
    "Z = np.matrix([[1,0], [0,-1]], dtype=np.complex_)\n",
    "\n",
    "\n",
    "H = (1/sqrt(2.))*np.matrix([[1, 1],[1, -1]], dtype=np.complex_)\n",
    "\n",
    "\n",
    "S = np.matrix([[1, 0], [0, 1j]], dtype=np.complex_)\n",
    "\n",
    "\n",
    "T = np.matrix([[1, 0], [0, cexp(1j*pi/4)]], dtype=np.complex_)"
   ]
  },
  {
   "cell_type": "code",
   "execution_count": null,
   "id": "75d9036d",
   "metadata": {},
   "outputs": [],
   "source": [
    "bits = bitstrings[27].astype(int)\n",
    "bits"
   ]
  },
  {
   "cell_type": "code",
   "execution_count": null,
   "id": "713f6118",
   "metadata": {},
   "outputs": [],
   "source": [
    "n = len(bits)//2\n",
    "pauli_chain = []\n",
    "for x, z in zip(bits[:n], bits[n:]):\n",
    "    if not x and not z:\n",
    "        pauli_chain.append(I)\n",
    "        print('I')\n",
    "    elif x and z:\n",
    "        pauli_chain.append(Y)\n",
    "        print('Y')\n",
    "    elif x and not z:\n",
    "        pauli_chain.append(X)\n",
    "        print('X')\n",
    "    else:\n",
    "        pauli_chain.append(Z)\n",
    "        print('Z')"
   ]
  },
  {
   "cell_type": "code",
   "execution_count": null,
   "id": "2ba96102",
   "metadata": {},
   "outputs": [],
   "source": [
    "result = pauli_chain.pop(0)\n",
    "while pauli_chain:\n",
    "    result = np.kron(result, pauli_chain.pop(0))\n",
    "\n",
    "result"
   ]
  },
  {
   "cell_type": "code",
   "execution_count": null,
   "id": "176fc068",
   "metadata": {},
   "outputs": [],
   "source": [
    "shuffle(bitstrings)\n",
    "[elem.astype(int) for elem in bitstrings]"
   ]
  },
  {
   "cell_type": "code",
   "execution_count": null,
   "id": "45b9e2f4",
   "metadata": {},
   "outputs": [],
   "source": [
    "clist = list(combinations(bitstrings, n_qubits))"
   ]
  },
  {
   "cell_type": "code",
   "execution_count": null,
   "id": "5200b47a",
   "metadata": {},
   "outputs": [],
   "source": [
    "clist[10]\n",
    "len(clist)"
   ]
  },
  {
   "cell_type": "code",
   "execution_count": null,
   "id": "fe3bffac",
   "metadata": {},
   "outputs": [],
   "source": [
    "clist[10:15]"
   ]
  },
  {
   "cell_type": "code",
   "execution_count": null,
   "id": "82fe5d0c",
   "metadata": {},
   "outputs": [],
   "source": [
    "clist[10]"
   ]
  },
  {
   "cell_type": "code",
   "execution_count": null,
   "id": "c7aed65d",
   "metadata": {},
   "outputs": [],
   "source": [
    "clist[172061495:]"
   ]
  },
  {
   "cell_type": "code",
   "execution_count": 5,
   "id": "395afcc8",
   "metadata": {},
   "outputs": [],
   "source": [
    "sign_strings = []\n",
    "for i in range(1, pow(2, n_qubits)): #2^n -1 different phase strings exist\n",
    "    sign_num = bin(i)[2:]\n",
    "    sign_num = '0'*(n_qubits - len(sign_num)) + sign_num\n",
    "    _a = np.array([b == '1' for b in sign_num])\n",
    "    sign_strings.append(_a)\n",
    "\n",
    "ssint = [elem.astype(int) for elem in sign_strings]\n",
    "flat_ssint = [item for sublist in ssint for item in sublist]\n",
    "flat_ssint = np.reshape(flat_ssint, (len(ssint), 4))"
   ]
  },
  {
   "cell_type": "code",
   "execution_count": 7,
   "id": "6e444d15",
   "metadata": {},
   "outputs": [],
   "source": [
    "n_stabilizers = 9648"
   ]
  },
  {
   "cell_type": "code",
   "execution_count": 8,
   "id": "c2da6749",
   "metadata": {},
   "outputs": [],
   "source": [
    "col_len = pow(2, n_qubits)"
   ]
  },
  {
   "cell_type": "code",
   "execution_count": null,
   "id": "d3d0e380",
   "metadata": {},
   "outputs": [],
   "source": []
  },
  {
   "cell_type": "markdown",
   "id": "a128ba5c",
   "metadata": {},
   "source": [
    "# Using YAML"
   ]
  },
  {
   "cell_type": "code",
   "execution_count": null,
   "id": "98699dc0",
   "metadata": {},
   "outputs": [],
   "source": [
    "def read_yaml():\n",
    "    \"\"\" A function to read YAML file\"\"\"\n",
    "    #with open('config.yml') as f:\n",
    "        #config = list(yaml.safe_load(f))\n",
    "\n",
    "    \"\"\" Reading multiple files\"\"\"\n",
    "    with open('toyaml.yml') as f:\n",
    "        config = list(yaml.safe_load_all(f))\n",
    "\n",
    "    return config\n",
    "\n",
    "#def write_yaml(data):\n",
    "#    \"\"\" A function to write YAML file\"\"\"\n",
    "#    with open('toyaml.yml', 'w') as f:\n",
    "#        yaml.dump(data, f)\n",
    "#    \"\"\" Writing multiple giles \"\"\"\n",
    "#    with open('toyaml.yml', 'a') as f:\n",
    "#        yaml.dump_all(data, f, default_flow_style=False)"
   ]
  },
  {
   "cell_type": "code",
   "execution_count": null,
   "id": "2449e8e3",
   "metadata": {},
   "outputs": [],
   "source": [
    "if __name__ == \"__main__\":\n",
    "\n",
    "    # read the config yaml\n",
    "    my_config = read_yaml()\n",
    "\n",
    "    # pretty print my_config\n",
    "    #pprint.pprint(my_config)\n",
    "    \n",
    "    #write pythong object to file\n",
    "    #write_yaml(my_config)\n",
    "    \n",
    "    #print(my_config[\"quiz\"])\n",
    "    with open('config.yml') as f:\n",
    "        new_config = list(yaml.safe_load_all(f))"
   ]
  },
  {
   "cell_type": "code",
   "execution_count": null,
   "id": "b4def3e8",
   "metadata": {},
   "outputs": [],
   "source": [
    "d1 = dict(new_config[0])\n",
    "d1\n",
    "print(d1.keys())\n",
    "my_config[0]\n",
    "d2 = my_config[0]\n",
    "print(d2.keys())\n",
    "d3 = my_config[1]\n",
    "print(d3.keys())\n",
    "d3.items()"
   ]
  },
  {
   "cell_type": "markdown",
   "id": "6e5857a4",
   "metadata": {},
   "source": [
    "# Using dictionaries"
   ]
  },
  {
   "cell_type": "code",
   "execution_count": null,
   "id": "2a865ac0",
   "metadata": {},
   "outputs": [],
   "source": [
    "thisdict = {\n",
    "  \"brand\": \"Ford\",\n",
    "  \"model\": \"Mustang\",\n",
    "  \"year\": 1964\n",
    "}\n",
    "print(thisdict)"
   ]
  },
  {
   "cell_type": "code",
   "execution_count": null,
   "id": "2070fba3",
   "metadata": {},
   "outputs": [],
   "source": [
    "thisdict = {\n",
    "  \"brand\": \"Ford\",\n",
    "  \"model\": \"Mustang\",\n",
    "  \"year\": 1964,\n",
    "  \"year\": 2020\n",
    "}\n",
    "print(thisdict)"
   ]
  },
  {
   "cell_type": "code",
   "execution_count": null,
   "id": "c8e5c533",
   "metadata": {},
   "outputs": [],
   "source": [
    "thisdict[\"year\"]"
   ]
  },
  {
   "cell_type": "code",
   "execution_count": null,
   "id": "f9a1d581",
   "metadata": {},
   "outputs": [],
   "source": [
    "thisdict.get(\"brand\")"
   ]
  },
  {
   "cell_type": "code",
   "execution_count": null,
   "id": "479a2129",
   "metadata": {},
   "outputs": [],
   "source": [
    "thisdict.keys()"
   ]
  },
  {
   "cell_type": "code",
   "execution_count": null,
   "id": "df984774",
   "metadata": {},
   "outputs": [],
   "source": [
    "thisdict.values()"
   ]
  },
  {
   "cell_type": "code",
   "execution_count": null,
   "id": "ac76d096",
   "metadata": {},
   "outputs": [],
   "source": [
    "thisdict.items()"
   ]
  },
  {
   "cell_type": "code",
   "execution_count": 8,
   "id": "e99c7e0d",
   "metadata": {},
   "outputs": [
    {
     "name": "stdout",
     "output_type": "stream",
     "text": [
      "dict_keys(['brand', 'model', 'year'])\n",
      "dict_keys(['brand', 'model', 'year', 'color'])\n",
      "dict_values(['Ford', 'Mustang', 1964, 'white'])\n",
      "dict_values(['Ford', 'Ferrari', 1964, 'white'])\n",
      "dict_values(['Ford', 'Ferrari', 1964, 'white', 'matte'])\n"
     ]
    }
   ],
   "source": [
    "car = {\n",
    "\"brand\": \"Ford\",\n",
    "\"model\": \"Mustang\",\n",
    "\"year\": 1964\n",
    "}\n",
    "\n",
    "x = car.keys()\n",
    "\n",
    "print(x) #before the change\n",
    "\n",
    "car[\"color\"] = \"white\"\n",
    "\n",
    "print(x) #after the change\n",
    "\n",
    "x = car.values()\n",
    "\n",
    "print(x)\n",
    "\n",
    "car[\"model\"] = \"Ferrari\"\n",
    "\n",
    "print(x)\n",
    "\n",
    "car[\"paint\"] = \"matte\"\n",
    "\n",
    "print(x)"
   ]
  },
  {
   "cell_type": "code",
   "execution_count": null,
   "id": "753e2b4a",
   "metadata": {},
   "outputs": [],
   "source": [
    "if \"paint\" not in thisdict:\n",
    "    #print(\"Yes, 'model' is one of the keys in the thisdict dictionary\")\n",
    "    print(\"Paint finish is missing!\")"
   ]
  },
  {
   "cell_type": "code",
   "execution_count": null,
   "id": "db57383b",
   "metadata": {},
   "outputs": [],
   "source": [
    "car.update({\"paint\" : \"glossy\"})\n",
    "car.items()"
   ]
  },
  {
   "cell_type": "code",
   "execution_count": null,
   "id": "7f927fbd",
   "metadata": {},
   "outputs": [],
   "source": [
    "thisdict.pop(\"model\")\n",
    "print(thisdict)"
   ]
  },
  {
   "cell_type": "code",
   "execution_count": null,
   "id": "ba6cd4df",
   "metadata": {},
   "outputs": [],
   "source": [
    "thisdict[\"model\"] = \"Mustang\"\n",
    "thisdict.items()"
   ]
  },
  {
   "cell_type": "code",
   "execution_count": null,
   "id": "9fffaadd",
   "metadata": {},
   "outputs": [],
   "source": [
    "thisdict.popitem()"
   ]
  },
  {
   "cell_type": "code",
   "execution_count": null,
   "id": "cc4610ce",
   "metadata": {},
   "outputs": [],
   "source": [
    "thisdict = {\n",
    "  \"brand\": \"Ford\",\n",
    "  \"model\": \"Mustang\",\n",
    "  \"year\": 1964\n",
    "}\n",
    "del thisdict[\"model\"]\n",
    "print(thisdict)"
   ]
  },
  {
   "cell_type": "code",
   "execution_count": null,
   "id": "37d77290",
   "metadata": {},
   "outputs": [],
   "source": [
    "del thisdict[\"year\"]"
   ]
  },
  {
   "cell_type": "code",
   "execution_count": null,
   "id": "a59528e7",
   "metadata": {},
   "outputs": [],
   "source": [
    "thisdict.items()"
   ]
  },
  {
   "cell_type": "code",
   "execution_count": null,
   "id": "0c228350",
   "metadata": {},
   "outputs": [],
   "source": [
    "thisdict.clear()"
   ]
  },
  {
   "cell_type": "code",
   "execution_count": null,
   "id": "37d68505",
   "metadata": {},
   "outputs": [],
   "source": [
    "thisdict"
   ]
  },
  {
   "cell_type": "code",
   "execution_count": null,
   "id": "3621af04",
   "metadata": {},
   "outputs": [],
   "source": [
    "del thisdict\n",
    "thisdict"
   ]
  },
  {
   "cell_type": "code",
   "execution_count": null,
   "id": "01975790",
   "metadata": {},
   "outputs": [],
   "source": [
    "for x in car.keys():\n",
    "    print(x)"
   ]
  },
  {
   "cell_type": "code",
   "execution_count": null,
   "id": "a1376efe",
   "metadata": {},
   "outputs": [],
   "source": [
    "for x in car:\n",
    "    print(x)"
   ]
  },
  {
   "cell_type": "code",
   "execution_count": null,
   "id": "874525a8",
   "metadata": {},
   "outputs": [],
   "source": [
    "for x in car.values():\n",
    "    print(x)"
   ]
  },
  {
   "cell_type": "code",
   "execution_count": null,
   "id": "3410e71d",
   "metadata": {},
   "outputs": [],
   "source": [
    "for x, y in car.items():\n",
    "    print(x, y)"
   ]
  },
  {
   "cell_type": "code",
   "execution_count": null,
   "id": "398f46b9",
   "metadata": {},
   "outputs": [],
   "source": [
    "mycar = car.copy()\n",
    "mycar[\"paint\"] = \"matte\"\n",
    "mycar"
   ]
  },
  {
   "cell_type": "code",
   "execution_count": null,
   "id": "f388b432",
   "metadata": {},
   "outputs": [],
   "source": [
    "myfamily = {\n",
    "  \"child1\" : {\n",
    "    \"name\" : \"Emil\",\n",
    "    \"year\" : 2004\n",
    "  },\n",
    "  \"child2\" : {\n",
    "    \"name\" : \"Tobias\",\n",
    "    \"year\" : 2007,\n",
    "    \"location\" : \"NYC\"\n",
    "  },\n",
    "  \"child3\" : {\n",
    "    \"name\" : \"Linus\",\n",
    "    \"year\" : 2011,\n",
    "    \"work\" : \"Sing\"\n",
    "  }\n",
    "}\n",
    "myfamily"
   ]
  },
  {
   "cell_type": "code",
   "execution_count": 22,
   "id": "b04c0691",
   "metadata": {},
   "outputs": [
    {
     "data": {
      "text/plain": [
       "{'sign_strings': array([[0, 0, 0, 1],\n",
       "        [0, 0, 1, 0],\n",
       "        [0, 0, 1, 1],\n",
       "        [0, 1, 0, 0],\n",
       "        [0, 1, 0, 1],\n",
       "        [0, 1, 1, 0],\n",
       "        [0, 1, 1, 1],\n",
       "        [1, 0, 0, 0],\n",
       "        [1, 0, 0, 1],\n",
       "        [1, 0, 1, 0],\n",
       "        [1, 0, 1, 1],\n",
       "        [1, 1, 0, 0],\n",
       "        [1, 1, 0, 1],\n",
       "        [1, 1, 1, 0],\n",
       "        [1, 1, 1, 1]]),\n",
       " 'car': {'brand': 'Ford',\n",
       "  'model': 'Ferrari',\n",
       "  'year': 1964,\n",
       "  'color': 'white',\n",
       "  'paint': 'matte'}}"
      ]
     },
     "execution_count": 22,
     "metadata": {},
     "output_type": "execute_result"
    }
   ],
   "source": [
    "dict1 = {\n",
    "    \"sign_strings\" : flat_ssint,\n",
    "    \"car\" : car\n",
    "}\n",
    "dict1"
   ]
  },
  {
   "cell_type": "code",
   "execution_count": null,
   "id": "eb754f1c",
   "metadata": {},
   "outputs": [],
   "source": [
    "list1 = dict1[\"sign_strings\"]\n",
    "list1"
   ]
  },
  {
   "cell_type": "code",
   "execution_count": null,
   "id": "7c6fba69",
   "metadata": {},
   "outputs": [],
   "source": [
    "list1 == sign_strings"
   ]
  },
  {
   "cell_type": "code",
   "execution_count": null,
   "id": "a62f8a22",
   "metadata": {},
   "outputs": [],
   "source": [
    "list1.append([False, False, False,  False])"
   ]
  },
  {
   "cell_type": "code",
   "execution_count": null,
   "id": "afda4083",
   "metadata": {},
   "outputs": [],
   "source": [
    "dict1[\"sign_strings\"] = list1\n",
    "dict1"
   ]
  },
  {
   "cell_type": "code",
   "execution_count": null,
   "id": "f7bdbfe4",
   "metadata": {},
   "outputs": [],
   "source": [
    "sign_strings"
   ]
  },
  {
   "cell_type": "code",
   "execution_count": 24,
   "id": "7d6a9c91",
   "metadata": {},
   "outputs": [
    {
     "ename": "RepresenterError",
     "evalue": "('cannot represent an object', array([[0, 0, 0, 1],\n       [0, 0, 1, 0],\n       [0, 0, 1, 1],\n       [0, 1, 0, 0],\n       [0, 1, 0, 1],\n       [0, 1, 1, 0],\n       [0, 1, 1, 1],\n       [1, 0, 0, 0],\n       [1, 0, 0, 1],\n       [1, 0, 1, 0],\n       [1, 0, 1, 1],\n       [1, 1, 0, 0],\n       [1, 1, 0, 1],\n       [1, 1, 1, 0],\n       [1, 1, 1, 1]]))",
     "output_type": "error",
     "traceback": [
      "\u001b[1;31m---------------------------------------------------------------------------\u001b[0m",
      "\u001b[1;31mRepresenterError\u001b[0m                          Traceback (most recent call last)",
      "\u001b[1;32m<ipython-input-24-dc8c0c711c7f>\u001b[0m in \u001b[0;36m<module>\u001b[1;34m\u001b[0m\n\u001b[0;32m      1\u001b[0m \u001b[1;32mwith\u001b[0m \u001b[0mopen\u001b[0m\u001b[1;33m(\u001b[0m\u001b[1;34m'toyaml.yml'\u001b[0m\u001b[1;33m,\u001b[0m \u001b[1;34m'w'\u001b[0m\u001b[1;33m)\u001b[0m \u001b[1;32mas\u001b[0m \u001b[0mf\u001b[0m\u001b[1;33m:\u001b[0m\u001b[1;33m\u001b[0m\u001b[1;33m\u001b[0m\u001b[0m\n\u001b[1;32m----> 2\u001b[1;33m     \u001b[0myaml\u001b[0m\u001b[1;33m.\u001b[0m\u001b[0msafe_dump\u001b[0m\u001b[1;33m(\u001b[0m\u001b[0mdict1\u001b[0m\u001b[1;33m,\u001b[0m \u001b[0mf\u001b[0m\u001b[1;33m)\u001b[0m\u001b[1;33m\u001b[0m\u001b[1;33m\u001b[0m\u001b[0m\n\u001b[0m",
      "\u001b[1;32m~\\.conda\\envs\\Tflow-Boolean\\lib\\site-packages\\yaml\\__init__.py\u001b[0m in \u001b[0;36msafe_dump\u001b[1;34m(data, stream, **kwds)\u001b[0m\n\u001b[0;32m    304\u001b[0m     \u001b[0mIf\u001b[0m \u001b[0mstream\u001b[0m \u001b[1;32mis\u001b[0m \u001b[1;32mNone\u001b[0m\u001b[1;33m,\u001b[0m \u001b[1;32mreturn\u001b[0m \u001b[0mthe\u001b[0m \u001b[0mproduced\u001b[0m \u001b[0mstring\u001b[0m \u001b[0minstead\u001b[0m\u001b[1;33m.\u001b[0m\u001b[1;33m\u001b[0m\u001b[1;33m\u001b[0m\u001b[0m\n\u001b[0;32m    305\u001b[0m     \"\"\"\n\u001b[1;32m--> 306\u001b[1;33m     \u001b[1;32mreturn\u001b[0m \u001b[0mdump_all\u001b[0m\u001b[1;33m(\u001b[0m\u001b[1;33m[\u001b[0m\u001b[0mdata\u001b[0m\u001b[1;33m]\u001b[0m\u001b[1;33m,\u001b[0m \u001b[0mstream\u001b[0m\u001b[1;33m,\u001b[0m \u001b[0mDumper\u001b[0m\u001b[1;33m=\u001b[0m\u001b[0mSafeDumper\u001b[0m\u001b[1;33m,\u001b[0m \u001b[1;33m**\u001b[0m\u001b[0mkwds\u001b[0m\u001b[1;33m)\u001b[0m\u001b[1;33m\u001b[0m\u001b[1;33m\u001b[0m\u001b[0m\n\u001b[0m\u001b[0;32m    307\u001b[0m \u001b[1;33m\u001b[0m\u001b[0m\n\u001b[0;32m    308\u001b[0m def add_implicit_resolver(tag, regexp, first=None,\n",
      "\u001b[1;32m~\\.conda\\envs\\Tflow-Boolean\\lib\\site-packages\\yaml\\__init__.py\u001b[0m in \u001b[0;36mdump_all\u001b[1;34m(documents, stream, Dumper, default_style, default_flow_style, canonical, indent, width, allow_unicode, line_break, encoding, explicit_start, explicit_end, version, tags, sort_keys)\u001b[0m\n\u001b[0;32m    276\u001b[0m         \u001b[0mdumper\u001b[0m\u001b[1;33m.\u001b[0m\u001b[0mopen\u001b[0m\u001b[1;33m(\u001b[0m\u001b[1;33m)\u001b[0m\u001b[1;33m\u001b[0m\u001b[1;33m\u001b[0m\u001b[0m\n\u001b[0;32m    277\u001b[0m         \u001b[1;32mfor\u001b[0m \u001b[0mdata\u001b[0m \u001b[1;32min\u001b[0m \u001b[0mdocuments\u001b[0m\u001b[1;33m:\u001b[0m\u001b[1;33m\u001b[0m\u001b[1;33m\u001b[0m\u001b[0m\n\u001b[1;32m--> 278\u001b[1;33m             \u001b[0mdumper\u001b[0m\u001b[1;33m.\u001b[0m\u001b[0mrepresent\u001b[0m\u001b[1;33m(\u001b[0m\u001b[0mdata\u001b[0m\u001b[1;33m)\u001b[0m\u001b[1;33m\u001b[0m\u001b[1;33m\u001b[0m\u001b[0m\n\u001b[0m\u001b[0;32m    279\u001b[0m         \u001b[0mdumper\u001b[0m\u001b[1;33m.\u001b[0m\u001b[0mclose\u001b[0m\u001b[1;33m(\u001b[0m\u001b[1;33m)\u001b[0m\u001b[1;33m\u001b[0m\u001b[1;33m\u001b[0m\u001b[0m\n\u001b[0;32m    280\u001b[0m     \u001b[1;32mfinally\u001b[0m\u001b[1;33m:\u001b[0m\u001b[1;33m\u001b[0m\u001b[1;33m\u001b[0m\u001b[0m\n",
      "\u001b[1;32m~\\.conda\\envs\\Tflow-Boolean\\lib\\site-packages\\yaml\\representer.py\u001b[0m in \u001b[0;36mrepresent\u001b[1;34m(self, data)\u001b[0m\n\u001b[0;32m     25\u001b[0m \u001b[1;33m\u001b[0m\u001b[0m\n\u001b[0;32m     26\u001b[0m     \u001b[1;32mdef\u001b[0m \u001b[0mrepresent\u001b[0m\u001b[1;33m(\u001b[0m\u001b[0mself\u001b[0m\u001b[1;33m,\u001b[0m \u001b[0mdata\u001b[0m\u001b[1;33m)\u001b[0m\u001b[1;33m:\u001b[0m\u001b[1;33m\u001b[0m\u001b[1;33m\u001b[0m\u001b[0m\n\u001b[1;32m---> 27\u001b[1;33m         \u001b[0mnode\u001b[0m \u001b[1;33m=\u001b[0m \u001b[0mself\u001b[0m\u001b[1;33m.\u001b[0m\u001b[0mrepresent_data\u001b[0m\u001b[1;33m(\u001b[0m\u001b[0mdata\u001b[0m\u001b[1;33m)\u001b[0m\u001b[1;33m\u001b[0m\u001b[1;33m\u001b[0m\u001b[0m\n\u001b[0m\u001b[0;32m     28\u001b[0m         \u001b[0mself\u001b[0m\u001b[1;33m.\u001b[0m\u001b[0mserialize\u001b[0m\u001b[1;33m(\u001b[0m\u001b[0mnode\u001b[0m\u001b[1;33m)\u001b[0m\u001b[1;33m\u001b[0m\u001b[1;33m\u001b[0m\u001b[0m\n\u001b[0;32m     29\u001b[0m         \u001b[0mself\u001b[0m\u001b[1;33m.\u001b[0m\u001b[0mrepresented_objects\u001b[0m \u001b[1;33m=\u001b[0m \u001b[1;33m{\u001b[0m\u001b[1;33m}\u001b[0m\u001b[1;33m\u001b[0m\u001b[1;33m\u001b[0m\u001b[0m\n",
      "\u001b[1;32m~\\.conda\\envs\\Tflow-Boolean\\lib\\site-packages\\yaml\\representer.py\u001b[0m in \u001b[0;36mrepresent_data\u001b[1;34m(self, data)\u001b[0m\n\u001b[0;32m     46\u001b[0m         \u001b[0mdata_types\u001b[0m \u001b[1;33m=\u001b[0m \u001b[0mtype\u001b[0m\u001b[1;33m(\u001b[0m\u001b[0mdata\u001b[0m\u001b[1;33m)\u001b[0m\u001b[1;33m.\u001b[0m\u001b[0m__mro__\u001b[0m\u001b[1;33m\u001b[0m\u001b[1;33m\u001b[0m\u001b[0m\n\u001b[0;32m     47\u001b[0m         \u001b[1;32mif\u001b[0m \u001b[0mdata_types\u001b[0m\u001b[1;33m[\u001b[0m\u001b[1;36m0\u001b[0m\u001b[1;33m]\u001b[0m \u001b[1;32min\u001b[0m \u001b[0mself\u001b[0m\u001b[1;33m.\u001b[0m\u001b[0myaml_representers\u001b[0m\u001b[1;33m:\u001b[0m\u001b[1;33m\u001b[0m\u001b[1;33m\u001b[0m\u001b[0m\n\u001b[1;32m---> 48\u001b[1;33m             \u001b[0mnode\u001b[0m \u001b[1;33m=\u001b[0m \u001b[0mself\u001b[0m\u001b[1;33m.\u001b[0m\u001b[0myaml_representers\u001b[0m\u001b[1;33m[\u001b[0m\u001b[0mdata_types\u001b[0m\u001b[1;33m[\u001b[0m\u001b[1;36m0\u001b[0m\u001b[1;33m]\u001b[0m\u001b[1;33m]\u001b[0m\u001b[1;33m(\u001b[0m\u001b[0mself\u001b[0m\u001b[1;33m,\u001b[0m \u001b[0mdata\u001b[0m\u001b[1;33m)\u001b[0m\u001b[1;33m\u001b[0m\u001b[1;33m\u001b[0m\u001b[0m\n\u001b[0m\u001b[0;32m     49\u001b[0m         \u001b[1;32melse\u001b[0m\u001b[1;33m:\u001b[0m\u001b[1;33m\u001b[0m\u001b[1;33m\u001b[0m\u001b[0m\n\u001b[0;32m     50\u001b[0m             \u001b[1;32mfor\u001b[0m \u001b[0mdata_type\u001b[0m \u001b[1;32min\u001b[0m \u001b[0mdata_types\u001b[0m\u001b[1;33m:\u001b[0m\u001b[1;33m\u001b[0m\u001b[1;33m\u001b[0m\u001b[0m\n",
      "\u001b[1;32m~\\.conda\\envs\\Tflow-Boolean\\lib\\site-packages\\yaml\\representer.py\u001b[0m in \u001b[0;36mrepresent_dict\u001b[1;34m(self, data)\u001b[0m\n\u001b[0;32m    205\u001b[0m \u001b[1;33m\u001b[0m\u001b[0m\n\u001b[0;32m    206\u001b[0m     \u001b[1;32mdef\u001b[0m \u001b[0mrepresent_dict\u001b[0m\u001b[1;33m(\u001b[0m\u001b[0mself\u001b[0m\u001b[1;33m,\u001b[0m \u001b[0mdata\u001b[0m\u001b[1;33m)\u001b[0m\u001b[1;33m:\u001b[0m\u001b[1;33m\u001b[0m\u001b[1;33m\u001b[0m\u001b[0m\n\u001b[1;32m--> 207\u001b[1;33m         \u001b[1;32mreturn\u001b[0m \u001b[0mself\u001b[0m\u001b[1;33m.\u001b[0m\u001b[0mrepresent_mapping\u001b[0m\u001b[1;33m(\u001b[0m\u001b[1;34m'tag:yaml.org,2002:map'\u001b[0m\u001b[1;33m,\u001b[0m \u001b[0mdata\u001b[0m\u001b[1;33m)\u001b[0m\u001b[1;33m\u001b[0m\u001b[1;33m\u001b[0m\u001b[0m\n\u001b[0m\u001b[0;32m    208\u001b[0m \u001b[1;33m\u001b[0m\u001b[0m\n\u001b[0;32m    209\u001b[0m     \u001b[1;32mdef\u001b[0m \u001b[0mrepresent_set\u001b[0m\u001b[1;33m(\u001b[0m\u001b[0mself\u001b[0m\u001b[1;33m,\u001b[0m \u001b[0mdata\u001b[0m\u001b[1;33m)\u001b[0m\u001b[1;33m:\u001b[0m\u001b[1;33m\u001b[0m\u001b[1;33m\u001b[0m\u001b[0m\n",
      "\u001b[1;32m~\\.conda\\envs\\Tflow-Boolean\\lib\\site-packages\\yaml\\representer.py\u001b[0m in \u001b[0;36mrepresent_mapping\u001b[1;34m(self, tag, mapping, flow_style)\u001b[0m\n\u001b[0;32m    116\u001b[0m         \u001b[1;32mfor\u001b[0m \u001b[0mitem_key\u001b[0m\u001b[1;33m,\u001b[0m \u001b[0mitem_value\u001b[0m \u001b[1;32min\u001b[0m \u001b[0mmapping\u001b[0m\u001b[1;33m:\u001b[0m\u001b[1;33m\u001b[0m\u001b[1;33m\u001b[0m\u001b[0m\n\u001b[0;32m    117\u001b[0m             \u001b[0mnode_key\u001b[0m \u001b[1;33m=\u001b[0m \u001b[0mself\u001b[0m\u001b[1;33m.\u001b[0m\u001b[0mrepresent_data\u001b[0m\u001b[1;33m(\u001b[0m\u001b[0mitem_key\u001b[0m\u001b[1;33m)\u001b[0m\u001b[1;33m\u001b[0m\u001b[1;33m\u001b[0m\u001b[0m\n\u001b[1;32m--> 118\u001b[1;33m             \u001b[0mnode_value\u001b[0m \u001b[1;33m=\u001b[0m \u001b[0mself\u001b[0m\u001b[1;33m.\u001b[0m\u001b[0mrepresent_data\u001b[0m\u001b[1;33m(\u001b[0m\u001b[0mitem_value\u001b[0m\u001b[1;33m)\u001b[0m\u001b[1;33m\u001b[0m\u001b[1;33m\u001b[0m\u001b[0m\n\u001b[0m\u001b[0;32m    119\u001b[0m             \u001b[1;32mif\u001b[0m \u001b[1;32mnot\u001b[0m \u001b[1;33m(\u001b[0m\u001b[0misinstance\u001b[0m\u001b[1;33m(\u001b[0m\u001b[0mnode_key\u001b[0m\u001b[1;33m,\u001b[0m \u001b[0mScalarNode\u001b[0m\u001b[1;33m)\u001b[0m \u001b[1;32mand\u001b[0m \u001b[1;32mnot\u001b[0m \u001b[0mnode_key\u001b[0m\u001b[1;33m.\u001b[0m\u001b[0mstyle\u001b[0m\u001b[1;33m)\u001b[0m\u001b[1;33m:\u001b[0m\u001b[1;33m\u001b[0m\u001b[1;33m\u001b[0m\u001b[0m\n\u001b[0;32m    120\u001b[0m                 \u001b[0mbest_style\u001b[0m \u001b[1;33m=\u001b[0m \u001b[1;32mFalse\u001b[0m\u001b[1;33m\u001b[0m\u001b[1;33m\u001b[0m\u001b[0m\n",
      "\u001b[1;32m~\\.conda\\envs\\Tflow-Boolean\\lib\\site-packages\\yaml\\representer.py\u001b[0m in \u001b[0;36mrepresent_data\u001b[1;34m(self, data)\u001b[0m\n\u001b[0;32m     56\u001b[0m                     \u001b[0mnode\u001b[0m \u001b[1;33m=\u001b[0m \u001b[0mself\u001b[0m\u001b[1;33m.\u001b[0m\u001b[0myaml_multi_representers\u001b[0m\u001b[1;33m[\u001b[0m\u001b[1;32mNone\u001b[0m\u001b[1;33m]\u001b[0m\u001b[1;33m(\u001b[0m\u001b[0mself\u001b[0m\u001b[1;33m,\u001b[0m \u001b[0mdata\u001b[0m\u001b[1;33m)\u001b[0m\u001b[1;33m\u001b[0m\u001b[1;33m\u001b[0m\u001b[0m\n\u001b[0;32m     57\u001b[0m                 \u001b[1;32melif\u001b[0m \u001b[1;32mNone\u001b[0m \u001b[1;32min\u001b[0m \u001b[0mself\u001b[0m\u001b[1;33m.\u001b[0m\u001b[0myaml_representers\u001b[0m\u001b[1;33m:\u001b[0m\u001b[1;33m\u001b[0m\u001b[1;33m\u001b[0m\u001b[0m\n\u001b[1;32m---> 58\u001b[1;33m                     \u001b[0mnode\u001b[0m \u001b[1;33m=\u001b[0m \u001b[0mself\u001b[0m\u001b[1;33m.\u001b[0m\u001b[0myaml_representers\u001b[0m\u001b[1;33m[\u001b[0m\u001b[1;32mNone\u001b[0m\u001b[1;33m]\u001b[0m\u001b[1;33m(\u001b[0m\u001b[0mself\u001b[0m\u001b[1;33m,\u001b[0m \u001b[0mdata\u001b[0m\u001b[1;33m)\u001b[0m\u001b[1;33m\u001b[0m\u001b[1;33m\u001b[0m\u001b[0m\n\u001b[0m\u001b[0;32m     59\u001b[0m                 \u001b[1;32melse\u001b[0m\u001b[1;33m:\u001b[0m\u001b[1;33m\u001b[0m\u001b[1;33m\u001b[0m\u001b[0m\n\u001b[0;32m     60\u001b[0m                     \u001b[0mnode\u001b[0m \u001b[1;33m=\u001b[0m \u001b[0mScalarNode\u001b[0m\u001b[1;33m(\u001b[0m\u001b[1;32mNone\u001b[0m\u001b[1;33m,\u001b[0m \u001b[0mstr\u001b[0m\u001b[1;33m(\u001b[0m\u001b[0mdata\u001b[0m\u001b[1;33m)\u001b[0m\u001b[1;33m)\u001b[0m\u001b[1;33m\u001b[0m\u001b[1;33m\u001b[0m\u001b[0m\n",
      "\u001b[1;32m~\\.conda\\envs\\Tflow-Boolean\\lib\\site-packages\\yaml\\representer.py\u001b[0m in \u001b[0;36mrepresent_undefined\u001b[1;34m(self, data)\u001b[0m\n\u001b[0;32m    229\u001b[0m \u001b[1;33m\u001b[0m\u001b[0m\n\u001b[0;32m    230\u001b[0m     \u001b[1;32mdef\u001b[0m \u001b[0mrepresent_undefined\u001b[0m\u001b[1;33m(\u001b[0m\u001b[0mself\u001b[0m\u001b[1;33m,\u001b[0m \u001b[0mdata\u001b[0m\u001b[1;33m)\u001b[0m\u001b[1;33m:\u001b[0m\u001b[1;33m\u001b[0m\u001b[1;33m\u001b[0m\u001b[0m\n\u001b[1;32m--> 231\u001b[1;33m         \u001b[1;32mraise\u001b[0m \u001b[0mRepresenterError\u001b[0m\u001b[1;33m(\u001b[0m\u001b[1;34m\"cannot represent an object\"\u001b[0m\u001b[1;33m,\u001b[0m \u001b[0mdata\u001b[0m\u001b[1;33m)\u001b[0m\u001b[1;33m\u001b[0m\u001b[1;33m\u001b[0m\u001b[0m\n\u001b[0m\u001b[0;32m    232\u001b[0m \u001b[1;33m\u001b[0m\u001b[0m\n\u001b[0;32m    233\u001b[0m SafeRepresenter.add_representer(type(None),\n",
      "\u001b[1;31mRepresenterError\u001b[0m: ('cannot represent an object', array([[0, 0, 0, 1],\n       [0, 0, 1, 0],\n       [0, 0, 1, 1],\n       [0, 1, 0, 0],\n       [0, 1, 0, 1],\n       [0, 1, 1, 0],\n       [0, 1, 1, 1],\n       [1, 0, 0, 0],\n       [1, 0, 0, 1],\n       [1, 0, 1, 0],\n       [1, 0, 1, 1],\n       [1, 1, 0, 0],\n       [1, 1, 0, 1],\n       [1, 1, 1, 0],\n       [1, 1, 1, 1]]))"
     ]
    }
   ],
   "source": [
    "with open('toyaml.yml', 'w') as f:\n",
    "    yaml.safe_dump(dict1, f)"
   ]
  },
  {
   "cell_type": "code",
   "execution_count": null,
   "id": "37974492",
   "metadata": {},
   "outputs": [],
   "source": [
    "doct"
   ]
  }
 ],
 "metadata": {
  "kernelspec": {
   "display_name": "Tflow-Boolean",
   "language": "python",
   "name": "tflow-boolean"
  },
  "language_info": {
   "codemirror_mode": {
    "name": "ipython",
    "version": 3
   },
   "file_extension": ".py",
   "mimetype": "text/x-python",
   "name": "python",
   "nbconvert_exporter": "python",
   "pygments_lexer": "ipython3",
   "version": "3.8.10"
  }
 },
 "nbformat": 4,
 "nbformat_minor": 5
}
