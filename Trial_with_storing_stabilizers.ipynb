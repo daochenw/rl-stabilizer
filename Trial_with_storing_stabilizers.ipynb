{
 "cells": [
  {
   "cell_type": "code",
   "execution_count": null,
   "id": "3746b18f",
   "metadata": {},
   "outputs": [],
   "source": [
    "import numpy as np\n",
    "import copy\n",
    "from math import sqrt\n",
    "from numpy.random import choice\n",
    "import yaml\n",
    "import time\n",
    "import math\n",
    "\n",
    "import os.path as path\n",
    "import pickle"
   ]
  },
  {
   "cell_type": "code",
   "execution_count": null,
   "id": "02556ad7",
   "metadata": {},
   "outputs": [],
   "source": [
    "from stabilizer_search.search.brute_force import *\n",
    "from stabilizer_search.mat import X, T\n",
    "from stabilizer_search.mat import tensor"
   ]
  },
  {
   "cell_type": "code",
   "execution_count": null,
   "id": "67f7b553",
   "metadata": {},
   "outputs": [],
   "source": [
    "n_qubits = 4"
   ]
  },
  {
   "cell_type": "code",
   "execution_count": null,
   "id": "13e03a6e",
   "metadata": {},
   "outputs": [],
   "source": [
    "H = [[np.cos(np.pi/8)],[np.sin(np.pi/8)]]\n",
    "target_state = tensor(*([H]*n_qubits))\n",
    "real = np.allclose(np.imag(target_state), 0.)"
   ]
  },
  {
   "cell_type": "code",
   "execution_count": null,
   "id": "29ff71d3",
   "metadata": {},
   "outputs": [],
   "source": [
    "stabilizers = get_stabilizer_states(n_qubits, real_only=real)\n",
    "shuffle(stabilizers)\n",
    "n_stabilizers = len(stabilizers)"
   ]
  },
  {
   "cell_type": "code",
   "execution_count": null,
   "id": "8dff9671",
   "metadata": {},
   "outputs": [],
   "source": []
  }
 ],
 "metadata": {
  "kernelspec": {
   "display_name": "Tflow-Boolean",
   "language": "python",
   "name": "tflow-boolean"
  },
  "language_info": {
   "codemirror_mode": {
    "name": "ipython",
    "version": 3
   },
   "file_extension": ".py",
   "mimetype": "text/x-python",
   "name": "python",
   "nbconvert_exporter": "python",
   "pygments_lexer": "ipython3",
   "version": "3.8.10"
  }
 },
 "nbformat": 4,
 "nbformat_minor": 5
}
